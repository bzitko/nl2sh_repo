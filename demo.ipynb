{
 "cells": [
  {
   "attachments": {},
   "cell_type": "markdown",
   "metadata": {},
   "source": [
    "# NL2SH dataset\n"
   ]
  },
  {
   "cell_type": "code",
   "execution_count": 1,
   "metadata": {},
   "outputs": [],
   "source": [
    "from nl2sh import reader"
   ]
  },
  {
   "cell_type": "code",
   "execution_count": 2,
   "metadata": {},
   "outputs": [],
   "source": [
    "dataset = reader.read_dataset(\"nl2sh_dataset.txt\")"
   ]
  },
  {
   "attachments": {},
   "cell_type": "markdown",
   "metadata": {},
   "source": [
    "First setence"
   ]
  },
  {
   "cell_type": "code",
   "execution_count": 3,
   "metadata": {},
   "outputs": [
    {
     "data": {
      "text/plain": [
       "Animals need water."
      ]
     },
     "execution_count": 3,
     "metadata": {},
     "output_type": "execute_result"
    }
   ],
   "source": [
    "dataset[0]"
   ]
  },
  {
   "attachments": {},
   "cell_type": "markdown",
   "metadata": {},
   "source": [
    "Sentence NL annotations"
   ]
  },
  {
   "cell_type": "code",
   "execution_count": 4,
   "metadata": {},
   "outputs": [
    {
     "name": "stdout",
     "output_type": "stream",
     "text": [
      "SENTENCE: Penny has a new ball, but she still prefers the old one.\n",
      "\n",
      "sent_i\ti\ttext\tspace\tlemma\tpos\ttag\tdep\thead\n",
      "--------------------------------------------------------------------------------\n",
      "42\t0\tPenny\tTrue\tPenny\tPROPN\tNNP\tnsubj\thas\n",
      "42\t1\thas\tTrue\thave\tVERB\tVBZ\tROOT\thas\n",
      "42\t2\ta\tTrue\ta\tDET\tDT\tdet\tball\n",
      "42\t3\tnew\tTrue\tnew\tADJ\tJJ\tamod\tball\n",
      "42\t4\tball\tFalse\tball\tNOUN\tNN\tdobj\thas\n",
      "42\t5\t,\tTrue\t,\tPUNCT\t,\tpunct\thas\n",
      "42\t6\tbut\tTrue\tbut\tCCONJ\tCC\tcc\thas\n",
      "42\t7\tshe\tTrue\tshe\tPRON\tPRP\tnsubj\tprefers\n",
      "42\t8\tstill\tTrue\tstill\tADV\tRB\tadvmod\tprefers\n",
      "42\t9\tprefers\tTrue\tprefer\tVERB\tVBZ\tconj\thas\n",
      "42\t10\tthe\tTrue\tthe\tDET\tDT\tdet\tone\n",
      "42\t11\told\tTrue\told\tADJ\tJJ\tamod\tone\n",
      "42\t12\tone\tFalse\tone\tNUM\tCD\tdobj\tprefers\n",
      "42\t13\t.\tFalse\t.\tPUNCT\t.\tpunct\tprefers\n",
      "\n",
      "NER: (PERSON Penny ,)\n",
      "SRL: {V has : (ARG0 Penny , ARG1 a new ball), V prefers : (ARG0 she , ARGM-TMP still , ARG1 the old one)}\n",
      "COREF: {REF she : MAIN Penny }\n"
     ]
    }
   ],
   "source": [
    "sent = dataset[42]\n",
    "\n",
    "print(\"SENTENCE:\", sent)\n",
    "print()\n",
    "\n",
    "\n",
    "print(f\"sent_i\\ti\\ttext\\tspace\\tlemma\\tpos\\ttag\\tdep\\thead\")\n",
    "print(\"-\"*80)\n",
    "for tok in sent:\n",
    "    print(f\"{tok.sent_i}\\t{tok.i}\\t{tok.text}\\t{tok.space}\\t{tok.lemma}\\t{tok.pos}\\t{tok.tag}\\t{tok.dep}\\t{tok.head}\")\n",
    "\n",
    "print()\n",
    "print(\"NER:\", sent.ner)\n",
    "print(\"SRL:\",sent.srl)\n",
    "print(\"COREF:\",sent.coref)\n"
   ]
  },
  {
   "attachments": {},
   "cell_type": "markdown",
   "metadata": {},
   "source": [
    "# Sentence hyperedge"
   ]
  },
  {
   "cell_type": "code",
   "execution_count": 5,
   "metadata": {},
   "outputs": [
    {
     "name": "stdout",
     "output_type": "stream",
     "text": [
      "HYPEREDGE:\n",
      "(but/J (has/Pd.so:01:01.|f--3s:01 penny/Cp..s.p (a/Md.< (new/Ma.< ball/Cc..s))) (prefers/Pd.s?o:0t1:0t1.|f--3s:012 (+/Jc.rm.rp she/Ci penny/Cp..s.p) still/M (the/Md.< (old/Ma.< one/C#))))\n",
      "\n",
      "ATOMS:\n",
      "but/J\n",
      "has/Pd.so:01:01.|f--3s:01\n",
      "penny/Cp..s.p\n",
      "a/Md.<\n",
      "new/Ma.<\n",
      "ball/Cc..s\n",
      "prefers/Pd.s?o:0t1:0t1.|f--3s:012\n",
      "+/Jc.rm.rp\n",
      "she/Ci\n",
      "penny/Cp..s.p\n",
      "still/M\n",
      "the/Md.<\n",
      "old/Ma.<\n",
      "one/C#\n",
      "\n",
      "SUBEDGES:\n",
      "(but/J (has/Pd.so:01:01.|f--3s:01 penny/Cp..s.p (a/Md.< (new/Ma.< ball/Cc..s))) (prefers/Pd.s?o:0t1:0t1.|f--3s:012 (+/Jc.rm.rp she/Ci penny/Cp..s.p) still/M (the/Md.< (old/Ma.< one/C#))))\n",
      "but/J\n",
      "(has/Pd.so:01:01.|f--3s:01 penny/Cp..s.p (a/Md.< (new/Ma.< ball/Cc..s)))\n",
      "has/Pd.so:01:01.|f--3s:01\n",
      "penny/Cp..s.p\n",
      "(a/Md.< (new/Ma.< ball/Cc..s))\n",
      "a/Md.<\n",
      "(new/Ma.< ball/Cc..s)\n",
      "new/Ma.<\n",
      "ball/Cc..s\n",
      "(prefers/Pd.s?o:0t1:0t1.|f--3s:012 (+/Jc.rm.rp she/Ci penny/Cp..s.p) still/M (the/Md.< (old/Ma.< one/C#)))\n",
      "prefers/Pd.s?o:0t1:0t1.|f--3s:012\n",
      "(+/Jc.rm.rp she/Ci penny/Cp..s.p)\n",
      "+/Jc.rm.rp\n",
      "she/Ci\n",
      "penny/Cp..s.p\n",
      "still/M\n",
      "(the/Md.< (old/Ma.< one/C#))\n",
      "the/Md.<\n",
      "(old/Ma.< one/C#)\n",
      "old/Ma.<\n",
      "one/C#\n"
     ]
    }
   ],
   "source": [
    "edge = sent.hyperedge\n",
    "print(\"HYPEREDGE:\")\n",
    "print(edge)\n",
    "print()\n",
    "print(\"ATOMS:\")\n",
    "for atom in edge.atoms():\n",
    "    print(atom)\n",
    "print()\n",
    "print(\"SUBEDGES:\")\n",
    "for subedge in edge.subedges():\n",
    "    print(subedge)\n",
    "                    "
   ]
  },
  {
   "attachments": {},
   "cell_type": "markdown",
   "metadata": {},
   "source": [
    "# Statistics"
   ]
  },
  {
   "cell_type": "code",
   "execution_count": 6,
   "metadata": {},
   "outputs": [
    {
     "name": "stdout",
     "output_type": "stream",
     "text": [
      "Sentences 664\n",
      "Vocabulary 1567\n"
     ]
    },
    {
     "data": {
      "text/html": [
       "<div>\n",
       "<style scoped>\n",
       "    .dataframe tbody tr th:only-of-type {\n",
       "        vertical-align: middle;\n",
       "    }\n",
       "\n",
       "    .dataframe tbody tr th {\n",
       "        vertical-align: top;\n",
       "    }\n",
       "\n",
       "    .dataframe thead th {\n",
       "        text-align: right;\n",
       "    }\n",
       "</style>\n",
       "<table border=\"1\" class=\"dataframe\">\n",
       "  <thead>\n",
       "    <tr style=\"text-align: right;\">\n",
       "      <th></th>\n",
       "      <th>count</th>\n",
       "      <th>mean</th>\n",
       "      <th>std</th>\n",
       "      <th>min</th>\n",
       "      <th>25%</th>\n",
       "      <th>50%</th>\n",
       "      <th>75%</th>\n",
       "      <th>max</th>\n",
       "    </tr>\n",
       "  </thead>\n",
       "  <tbody>\n",
       "    <tr>\n",
       "      <th>token</th>\n",
       "      <td>6851</td>\n",
       "      <td>10.318</td>\n",
       "      <td>4.774</td>\n",
       "      <td>2</td>\n",
       "      <td>8</td>\n",
       "      <td>10</td>\n",
       "      <td>12</td>\n",
       "      <td>65</td>\n",
       "    </tr>\n",
       "    <tr>\n",
       "      <th>word</th>\n",
       "      <td>5968</td>\n",
       "      <td>8.988</td>\n",
       "      <td>4.130</td>\n",
       "      <td>1</td>\n",
       "      <td>7</td>\n",
       "      <td>8</td>\n",
       "      <td>10</td>\n",
       "      <td>48</td>\n",
       "    </tr>\n",
       "    <tr>\n",
       "      <th>clause</th>\n",
       "      <td>1267</td>\n",
       "      <td>1.908</td>\n",
       "      <td>0.890</td>\n",
       "      <td>0</td>\n",
       "      <td>1</td>\n",
       "      <td>2</td>\n",
       "      <td>2</td>\n",
       "      <td>12</td>\n",
       "    </tr>\n",
       "    <tr>\n",
       "      <th>entity</th>\n",
       "      <td>254</td>\n",
       "      <td>0.383</td>\n",
       "      <td>0.760</td>\n",
       "      <td>0</td>\n",
       "      <td>0</td>\n",
       "      <td>0</td>\n",
       "      <td>1</td>\n",
       "      <td>6</td>\n",
       "    </tr>\n",
       "    <tr>\n",
       "      <th>coref</th>\n",
       "      <td>201</td>\n",
       "      <td>0.303</td>\n",
       "      <td>0.609</td>\n",
       "      <td>0</td>\n",
       "      <td>0</td>\n",
       "      <td>0</td>\n",
       "      <td>0</td>\n",
       "      <td>5</td>\n",
       "    </tr>\n",
       "    <tr>\n",
       "      <th>roleset</th>\n",
       "      <td>1599</td>\n",
       "      <td>2.408</td>\n",
       "      <td>1.167</td>\n",
       "      <td>0</td>\n",
       "      <td>2</td>\n",
       "      <td>2</td>\n",
       "      <td>3</td>\n",
       "      <td>13</td>\n",
       "    </tr>\n",
       "    <tr>\n",
       "      <th>synset</th>\n",
       "      <td>3206</td>\n",
       "      <td>4.828</td>\n",
       "      <td>2.287</td>\n",
       "      <td>0</td>\n",
       "      <td>3</td>\n",
       "      <td>5</td>\n",
       "      <td>6</td>\n",
       "      <td>22</td>\n",
       "    </tr>\n",
       "    <tr>\n",
       "      <th>atom</th>\n",
       "      <td>7077</td>\n",
       "      <td>10.658</td>\n",
       "      <td>7.281</td>\n",
       "      <td>1</td>\n",
       "      <td>7</td>\n",
       "      <td>9</td>\n",
       "      <td>12</td>\n",
       "      <td>123</td>\n",
       "    </tr>\n",
       "    <tr>\n",
       "      <th>hyperedge</th>\n",
       "      <td>4311</td>\n",
       "      <td>6.492</td>\n",
       "      <td>4.480</td>\n",
       "      <td>0</td>\n",
       "      <td>4</td>\n",
       "      <td>6</td>\n",
       "      <td>8</td>\n",
       "      <td>68</td>\n",
       "    </tr>\n",
       "  </tbody>\n",
       "</table>\n",
       "</div>"
      ],
      "text/plain": [
       "           count    mean    std  min  25%  50%  75%  max\n",
       "token       6851  10.318  4.774    2    8   10   12   65\n",
       "word        5968   8.988  4.130    1    7    8   10   48\n",
       "clause      1267   1.908  0.890    0    1    2    2   12\n",
       "entity       254   0.383  0.760    0    0    0    1    6\n",
       "coref        201   0.303  0.609    0    0    0    0    5\n",
       "roleset     1599   2.408  1.167    0    2    2    3   13\n",
       "synset      3206   4.828  2.287    0    3    5    6   22\n",
       "atom        7077  10.658  7.281    1    7    9   12  123\n",
       "hyperedge   4311   6.492  4.480    0    4    6    8   68"
      ]
     },
     "execution_count": 6,
     "metadata": {},
     "output_type": "execute_result"
    }
   ],
   "source": [
    "import pandas as pd\n",
    "\n",
    "config = {\"token\": lambda sent: len(sent),\n",
    "          \"word\": lambda sent: len([t.text for t in sent if t.dep not in (\"punct\", \"dep\")]),\n",
    "          \"clause\": lambda sent: len([v for v, args in sent.srl.items() if len(args) > 0]),\n",
    "          \"entity\": lambda sent: len(sent.ner),\n",
    "          \"coref\": lambda sent: len(sent.coref),\n",
    "          \"roleset\": lambda sent: len([t for t in sent if t.roleset]),\n",
    "          \"synset\": lambda sent: len([t for t in sent if t.synset]),\n",
    "          \"atom\": lambda sent: len(list(sent.hyperedge.atoms())),\n",
    "          \"hyperedge\": lambda sent: len([se for se in sent.hyperedge.subedges() if not se.is_atom()]),\n",
    "          }\n",
    "\n",
    "V = {t.text for sent in dataset for t in sent}\n",
    "\n",
    "\n",
    "data = {name: [] for name in config}\n",
    "for sent in dataset:\n",
    "    for name, func in config.items():\n",
    "        count = func(sent)\n",
    "        data[name].append(count)\n",
    "\n",
    "\n",
    "print(\"Sentences\", len(dataset))\n",
    "print(\"Vocabulary\", len(V))\n",
    "\n",
    "\n",
    "df = pd.DataFrame(data)\n",
    "xf = df.describe().T\n",
    "xf[\"count\"] =df.sum()\n",
    "xf = xf.astype({\"min\": int, \"max\": int, \"25%\": int, \"50%\": int, \"75%\": int})\n",
    "xf.round(3)\n",
    "\n",
    "\n",
    "\n",
    "\n"
   ]
  },
  {
   "cell_type": "code",
   "execution_count": null,
   "metadata": {},
   "outputs": [],
   "source": []
  }
 ],
 "metadata": {
  "kernelspec": {
   "display_name": "spacyxx",
   "language": "python",
   "name": "python3"
  },
  "language_info": {
   "codemirror_mode": {
    "name": "ipython",
    "version": 3
   },
   "file_extension": ".py",
   "mimetype": "text/x-python",
   "name": "python",
   "nbconvert_exporter": "python",
   "pygments_lexer": "ipython3",
   "version": "3.9.15"
  },
  "orig_nbformat": 4
 },
 "nbformat": 4,
 "nbformat_minor": 2
}
