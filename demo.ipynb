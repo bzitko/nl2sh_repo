{
 "cells": [
  {
   "attachments": {},
   "cell_type": "markdown",
   "metadata": {},
   "source": [
    "# NL2SH dataset\n"
   ]
  },
  {
   "cell_type": "code",
   "execution_count": 1,
   "metadata": {},
   "outputs": [],
   "source": [
    "from nl2sh import reader"
   ]
  },
  {
   "cell_type": "code",
   "execution_count": 3,
   "metadata": {},
   "outputs": [],
   "source": [
    "dataset = reader.read_dataset(\"nl2sh_dataset.txt\")"
   ]
  },
  {
   "cell_type": "code",
   "execution_count": 4,
   "metadata": {},
   "outputs": [
    {
     "data": {
      "text/plain": [
       "(I will be going to France next week.,\n",
       " It may have been being repaired.,\n",
       " He has clever ideas.,\n",
       " It was a very big meal.,\n",
       " The students were really bored with the film.,\n",
       " He spoke very softly.)"
      ]
     },
     "execution_count": 4,
     "metadata": {},
     "output_type": "execute_result"
    }
   ],
   "source": [
    "dataset[4:10]"
   ]
  },
  {
   "cell_type": "code",
   "execution_count": 5,
   "metadata": {},
   "outputs": [
    {
     "name": "stdout",
     "output_type": "stream",
     "text": [
      "SENTENCE: Penny has a new ball, but she still prefers the old one.\n",
      "\n",
      "has 1 42\t0\tPenny\tTrue\tPenny\tPROPN\tNNP\tnsubj\thas\tNone\tNone\n",
      "has 1 42\t1\thas\tTrue\thave\tVERB\tVBZ\tROOT\thas\thave.03\thave.v.01\n",
      "ball 4 42\t2\ta\tTrue\ta\tDET\tDT\tdet\tball\tNone\tNone\n",
      "ball 4 42\t3\tnew\tTrue\tnew\tADJ\tJJ\tamod\tball\tNone\tnew.a.01\n",
      "has 1 42\t4\tball\tFalse\tball\tNOUN\tNN\tdobj\thas\tNone\tball.n.01\n",
      "has 1 42\t5\t,\tTrue\t,\tPUNCT\t,\tpunct\thas\tNone\tNone\n",
      "has 1 42\t6\tbut\tTrue\tbut\tCCONJ\tCC\tcc\thas\tNone\tNone\n",
      "prefers 9 42\t7\tshe\tTrue\tshe\tPRON\tPRP\tnsubj\tprefers\tNone\tNone\n",
      "prefers 9 42\t8\tstill\tTrue\tstill\tADV\tRB\tadvmod\tprefers\tNone\tstill.r.01\n",
      "has 1 42\t9\tprefers\tTrue\tprefer\tVERB\tVBZ\tconj\thas\tprefer.01\tprefer.v.01\n",
      "one 12 42\t10\tthe\tTrue\tthe\tDET\tDT\tdet\tone\tNone\tNone\n",
      "one 12 42\t11\told\tTrue\told\tADJ\tJJ\tamod\tone\tNone\told.a.02\n",
      "prefers 9 42\t12\tone\tFalse\tone\tNUM\tCD\tdobj\tprefers\tNone\tone.n.02\n",
      "prefers 9 42\t13\t.\tFalse\t.\tPUNCT\t.\tpunct\tprefers\tNone\tNone\n",
      "\n",
      "NER: (PERSON Penny ,)\n",
      "SRL: {V has : (ARG0 Penny , ARG1 a new ball), V prefers : (ARG0 she , ARGM-TMP still , ARG1 the old one)}\n",
      "COREF: {REF she : MAIN Penny }\n",
      "HYPEREDGE: (but/J (has/Pd.so:01:01.|f--3s:01 penny/Cp..s.p (a/Md.< (new/Ma.< ball/Cc..s))) (prefers/Pd.s?o:0t1:0t1.|f--3s:012 (+/Jc.rm.rp she/Ci penny/Cp..s.p) still/M (the/Md.< (old/Ma.< one/C#))))\n"
     ]
    }
   ],
   "source": [
    "sent = dataset[42]\n",
    "\n",
    "print(\"SENTENCE:\", sent)\n",
    "print()\n",
    "\n",
    "for tok in sent:\n",
    "    print(tok.head, tok.head.i, \"\\t\".join(str(attr) for attr in tok))\n",
    "\n",
    "print()\n",
    "print(\"NER:\", sent.ner)\n",
    "print(\"SRL:\",sent.srl)\n",
    "print(\"COREF:\",sent.coref)\n",
    "print(\"HYPEREDGE:\", sent.hyperedge)"
   ]
  },
  {
   "cell_type": "code",
   "execution_count": null,
   "metadata": {},
   "outputs": [],
   "source": []
  }
 ],
 "metadata": {
  "kernelspec": {
   "display_name": "spacyxx",
   "language": "python",
   "name": "python3"
  },
  "language_info": {
   "codemirror_mode": {
    "name": "ipython",
    "version": 3
   },
   "file_extension": ".py",
   "mimetype": "text/x-python",
   "name": "python",
   "nbconvert_exporter": "python",
   "pygments_lexer": "ipython3",
   "version": "3.9.15"
  },
  "orig_nbformat": 4
 },
 "nbformat": 4,
 "nbformat_minor": 2
}
