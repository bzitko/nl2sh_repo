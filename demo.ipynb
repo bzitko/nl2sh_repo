{
 "cells": [
  {
   "attachments": {},
   "cell_type": "markdown",
   "metadata": {},
   "source": [
    "# NL2SH dataset\n"
   ]
  },
  {
   "cell_type": "code",
   "execution_count": 1,
   "metadata": {},
   "outputs": [],
   "source": [
    "from nl2sh import reader"
   ]
  },
  {
   "cell_type": "code",
   "execution_count": 2,
   "metadata": {},
   "outputs": [],
   "source": [
    "dataset = reader.read_dataset(\"nl2sh_dataset.txt\")"
   ]
  },
  {
   "attachments": {},
   "cell_type": "markdown",
   "metadata": {},
   "source": [
    "First setence"
   ]
  },
  {
   "cell_type": "code",
   "execution_count": 3,
   "metadata": {},
   "outputs": [
    {
     "data": {
      "text/plain": [
       "Animals need water."
      ]
     },
     "execution_count": 3,
     "metadata": {},
     "output_type": "execute_result"
    }
   ],
   "source": [
    "dataset[0]"
   ]
  },
  {
   "attachments": {},
   "cell_type": "markdown",
   "metadata": {},
   "source": [
    "Sentence NL annotations"
   ]
  },
  {
   "cell_type": "code",
   "execution_count": 4,
   "metadata": {},
   "outputs": [
    {
     "name": "stdout",
     "output_type": "stream",
     "text": [
      "SENTENCE: Penny has a new ball, but she still prefers the old one.\n",
      "\n",
      "sent_i\ti\ttext\tspace\tlemma\tpos\ttag\tdep\thead\n",
      "--------------------------------------------------------------------------------\n",
      "42\t0\tPenny\tTrue\tPenny\tPROPN\tNNP\tnsubj\thas\n",
      "42\t1\thas\tTrue\thave\tVERB\tVBZ\tROOT\thas\n",
      "42\t2\ta\tTrue\ta\tDET\tDT\tdet\tball\n",
      "42\t3\tnew\tTrue\tnew\tADJ\tJJ\tamod\tball\n",
      "42\t4\tball\tFalse\tball\tNOUN\tNN\tdobj\thas\n",
      "42\t5\t,\tTrue\t,\tPUNCT\t,\tpunct\thas\n",
      "42\t6\tbut\tTrue\tbut\tCCONJ\tCC\tcc\thas\n",
      "42\t7\tshe\tTrue\tshe\tPRON\tPRP\tnsubj\tprefers\n",
      "42\t8\tstill\tTrue\tstill\tADV\tRB\tadvmod\tprefers\n",
      "42\t9\tprefers\tTrue\tprefer\tVERB\tVBZ\tconj\thas\n",
      "42\t10\tthe\tTrue\tthe\tDET\tDT\tdet\tone\n",
      "42\t11\told\tTrue\told\tADJ\tJJ\tamod\tone\n",
      "42\t12\tone\tFalse\tone\tNUM\tCD\tdobj\tprefers\n",
      "42\t13\t.\tFalse\t.\tPUNCT\t.\tpunct\tprefers\n",
      "\n",
      "NER: (PERSON Penny ,)\n",
      "SRL: {V has : (ARG0 Penny , ARG1 a new ball), V prefers : (ARG0 she , ARGM-TMP still , ARG1 the old one)}\n",
      "COREF: {REF she : MAIN Penny }\n"
     ]
    }
   ],
   "source": [
    "sent = dataset[42]\n",
    "\n",
    "print(\"SENTENCE:\", sent)\n",
    "print()\n",
    "\n",
    "\n",
    "print(f\"sent_i\\ti\\ttext\\tspace\\tlemma\\tpos\\ttag\\tdep\\thead\")\n",
    "print(\"-\"*80)\n",
    "for tok in sent:\n",
    "    print(f\"{tok.sent_i}\\t{tok.i}\\t{tok.text}\\t{tok.space}\\t{tok.lemma}\\t{tok.pos}\\t{tok.tag}\\t{tok.dep}\\t{tok.head}\")\n",
    "\n",
    "print()\n",
    "print(\"NER:\", sent.ner)\n",
    "print(\"SRL:\",sent.srl)\n",
    "print(\"COREF:\",sent.coref)\n"
   ]
  },
  {
   "attachments": {},
   "cell_type": "markdown",
   "metadata": {},
   "source": [
    "# Sentence hyperedge"
   ]
  },
  {
   "cell_type": "code",
   "execution_count": 5,
   "metadata": {},
   "outputs": [
    {
     "name": "stdout",
     "output_type": "stream",
     "text": [
      "HYPEREDGE:\n",
      "(but/J (has/Pd.so:01:01.|f--3s:01 penny/Cp..s.p (a/Md.< (new/Ma.< ball/Cc..s))) (prefers/Pd.s?o:0t1:0t1.|f--3s:012 (+/Jc.rm.rp she/Ci penny/Cp..s.p) still/M (the/Md.< (old/Ma.< one/C#))))\n",
      "\n",
      "ATOMS:\n",
      "but/J\n",
      "has/Pd.so:01:01.|f--3s:01\n",
      "penny/Cp..s.p\n",
      "a/Md.<\n",
      "new/Ma.<\n",
      "ball/Cc..s\n",
      "prefers/Pd.s?o:0t1:0t1.|f--3s:012\n",
      "+/Jc.rm.rp\n",
      "she/Ci\n",
      "penny/Cp..s.p\n",
      "still/M\n",
      "the/Md.<\n",
      "old/Ma.<\n",
      "one/C#\n",
      "\n",
      "SUBEDGES:\n",
      "(but/J (has/Pd.so:01:01.|f--3s:01 penny/Cp..s.p (a/Md.< (new/Ma.< ball/Cc..s))) (prefers/Pd.s?o:0t1:0t1.|f--3s:012 (+/Jc.rm.rp she/Ci penny/Cp..s.p) still/M (the/Md.< (old/Ma.< one/C#))))\n",
      "but/J\n",
      "(has/Pd.so:01:01.|f--3s:01 penny/Cp..s.p (a/Md.< (new/Ma.< ball/Cc..s)))\n",
      "has/Pd.so:01:01.|f--3s:01\n",
      "penny/Cp..s.p\n",
      "(a/Md.< (new/Ma.< ball/Cc..s))\n",
      "a/Md.<\n",
      "(new/Ma.< ball/Cc..s)\n",
      "new/Ma.<\n",
      "ball/Cc..s\n",
      "(prefers/Pd.s?o:0t1:0t1.|f--3s:012 (+/Jc.rm.rp she/Ci penny/Cp..s.p) still/M (the/Md.< (old/Ma.< one/C#)))\n",
      "prefers/Pd.s?o:0t1:0t1.|f--3s:012\n",
      "(+/Jc.rm.rp she/Ci penny/Cp..s.p)\n",
      "+/Jc.rm.rp\n",
      "she/Ci\n",
      "penny/Cp..s.p\n",
      "still/M\n",
      "(the/Md.< (old/Ma.< one/C#))\n",
      "the/Md.<\n",
      "(old/Ma.< one/C#)\n",
      "old/Ma.<\n",
      "one/C#\n"
     ]
    }
   ],
   "source": [
    "edge = sent.hyperedge\n",
    "print(\"HYPEREDGE:\")\n",
    "print(edge)\n",
    "print()\n",
    "print(\"ATOMS:\")\n",
    "for atom in edge.atoms():\n",
    "    print(atom)\n",
    "print()\n",
    "print(\"SUBEDGES:\")\n",
    "for subedge in edge.subedges():\n",
    "    print(subedge)\n",
    "                    "
   ]
  },
  {
   "cell_type": "code",
   "execution_count": null,
   "metadata": {},
   "outputs": [],
   "source": []
  }
 ],
 "metadata": {
  "kernelspec": {
   "display_name": "spacyxx",
   "language": "python",
   "name": "python3"
  },
  "language_info": {
   "codemirror_mode": {
    "name": "ipython",
    "version": 3
   },
   "file_extension": ".py",
   "mimetype": "text/x-python",
   "name": "python",
   "nbconvert_exporter": "python",
   "pygments_lexer": "ipython3",
   "version": "3.9.15"
  },
  "orig_nbformat": 4
 },
 "nbformat": 4,
 "nbformat_minor": 2
}
